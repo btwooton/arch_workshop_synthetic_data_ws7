{
 "cells": [
  {
   "cell_type": "code",
   "execution_count": null,
   "id": "09b86378-d178-401b-b501-4f17e997cf1f",
   "metadata": {},
   "outputs": [],
   "source": [
    "from google.colab import drive"
   ]
  },
  {
   "cell_type": "markdown",
   "id": "e46e5f45-4078-4fc7-b7a5-d47e22dfc2c9",
   "metadata": {},
   "source": [
    "# Basic Example: Running the Synthea Synthetic Patient Generation Tool\n",
    "- Here we pass in `-p 250` to specify that we want to simulate 250 patients\n",
    "- We pass in a specific config file with `-c synthea.config`\n",
    "- We specify that we want to simulate patients for the state of washington by giving the name `Washington`"
   ]
  },
  {
   "cell_type": "code",
   "execution_count": null,
   "id": "08b79a2e-ec2b-479f-ac88-5e698b3bcadc",
   "metadata": {},
   "outputs": [],
   "source": [
    "!java -jar synthea-with-dependencies.jar -c synthea.config -p 250 Washington"
   ]
  },
  {
   "cell_type": "markdown",
   "id": "d70f3a19-4f1f-4cf3-8463-81a4e5d210d4",
   "metadata": {},
   "source": [
    "# Extended Example: Running the Synthea Tool for Multiple Different States\n",
    "- We can simulate patients for multiple states by invoking the synthea .jar file multiple times\n",
    "- We specify distinct output directories using the `--exporter.baseDirectory=\"<directory_path>\"` commandline argument"
   ]
  },
  {
   "cell_type": "code",
   "execution_count": null,
   "id": "987e7e5a-514d-479f-ae0b-8f4934617856",
   "metadata": {},
   "outputs": [],
   "source": [
    "!java -jar synthea-with-dependencies.jar -c synthea.config -p 50 --exporter.baseDirectory=\"./output_wa\" Washington > /dev/null 2>&1 && \\\n",
    "echo \"Finished generating patients for Washington\" && \\\n",
    "java -jar synthea-with-dependencies.jar -c synthea.config -p 50 --exporter.baseDirectory=\"./output_ca\" California > /dev/null 2>&1 && \\\n",
    "echo \"Finished generating patients for California\" && \\\n",
    "java -jar synthea-with-dependencies.jar -c synthea.config -p 50 --exporter.baseDirectory=\"./output_hi\" Hawaii > /dev/null 2>&1 && \\\n",
    "echo \"Finished generating patients for Hawaii\" && \\\n",
    "java -jar synthea-with-dependencies.jar -c synthea.config -p 50 --exporter.baseDirectory=\"./output_tx\" Texas > /dev/null 2>&1 && \\\n",
    "echo \"Finished generating patients for Texas\" && \\\n",
    "java -jar synthea-with-dependencies.jar -c synthea.config -p 50 --exporter.baseDirectory=\"./output_id\" Idaho > /dev/null 2>&1 && \\\n",
    "echo \"Finished generating patients for Idaho\""
   ]
  },
  {
   "cell_type": "markdown",
   "id": "e8a42a66-e1da-44b5-9341-270d7f513b0d",
   "metadata": {},
   "source": [
    "# Loading Custom Modules from a Subfolder\n",
    "- If we want to extend the Synthea tool with our own custom .json modules, we can load these with the `[-d localModulesDirPath]` commandline argument"
   ]
  },
  {
   "cell_type": "code",
   "execution_count": null,
   "id": "f5ad864f-f4a9-458a-a11b-ac53d7e8c6c9",
   "metadata": {},
   "outputs": [],
   "source": [
    "!java -jar synthea-with-dependencies.jar -c synthea.config -p 250 \\\n",
    "--exporter.baseDirectory=\"./output_custom\" -d local_modules_dir Washington"
   ]
  },
  {
   "cell_type": "code",
   "execution_count": null,
   "id": "6542c89e-9fe9-4ed3-91cd-83fbb1912aab",
   "metadata": {},
   "outputs": [],
   "source": []
  }
 ],
 "metadata": {
  "kernelspec": {
   "display_name": "Python 3 (ipykernel)",
   "language": "python",
   "name": "python3"
  },
  "language_info": {
   "codemirror_mode": {
    "name": "ipython",
    "version": 3
   },
   "file_extension": ".py",
   "mimetype": "text/x-python",
   "name": "python",
   "nbconvert_exporter": "python",
   "pygments_lexer": "ipython3",
   "version": "3.12.9"
  }
 },
 "nbformat": 4,
 "nbformat_minor": 5
}
