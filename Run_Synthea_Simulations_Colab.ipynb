{
  "cells": [
    {
      "cell_type": "code",
      "source": [
        "!fusermount -u /content/drive"
      ],
      "metadata": {
        "id": "RyKl2AexpFAB"
      },
      "id": "RyKl2AexpFAB",
      "execution_count": null,
      "outputs": []
    },
    {
      "cell_type": "code",
      "execution_count": null,
      "id": "09b86378-d178-401b-b501-4f17e997cf1f",
      "metadata": {
        "id": "09b86378-d178-401b-b501-4f17e997cf1f"
      },
      "outputs": [],
      "source": [
        "from google.colab import drive"
      ]
    },
    {
      "cell_type": "code",
      "source": [
        "drive.mount('/content/drive', force_remount=True)"
      ],
      "metadata": {
        "id": "yeK-JICxbA9Q"
      },
      "id": "yeK-JICxbA9Q",
      "execution_count": null,
      "outputs": []
    },
    {
      "cell_type": "markdown",
      "source": [
        "First we create a directory in which we can download the Synthea application"
      ],
      "metadata": {
        "id": "FHXhxROEbRSE"
      },
      "id": "FHXhxROEbRSE"
    },
    {
      "cell_type": "code",
      "source": [
        "!mkdir -p /content/drive/MyDrive/synthea"
      ],
      "metadata": {
        "id": "lIXQzZ_hbKh_"
      },
      "id": "lIXQzZ_hbKh_",
      "execution_count": null,
      "outputs": []
    },
    {
      "cell_type": "markdown",
      "source": [
        "Now fetch the latest release of the Synthea .jar file from the Synthea github repository"
      ],
      "metadata": {
        "id": "AB63rLcJbnh6"
      },
      "id": "AB63rLcJbnh6"
    },
    {
      "cell_type": "code",
      "source": [
        "!wget -O /content/drive/MyDrive/synthea/synthea.jar https://github.com/synthetichealth/synthea/releases/download/master-branch-latest/synthea-with-dependencies.jar"
      ],
      "metadata": {
        "id": "YO58rW5fbYeA"
      },
      "id": "YO58rW5fbYeA",
      "execution_count": null,
      "outputs": []
    },
    {
      "cell_type": "markdown",
      "source": [
        "We also need to fetch the synthea.config and the custom IBS module from the Workshop github repository"
      ],
      "metadata": {
        "id": "9-RtVpACch-U"
      },
      "id": "9-RtVpACch-U"
    },
    {
      "cell_type": "code",
      "source": [
        "!wget -O /content/drive/MyDrive/synthea/synthea.config https://raw.githubusercontent.com/btwooton/arch_workshop_synthetic_data_ws7/main/synthea.config"
      ],
      "metadata": {
        "id": "lM3AKXsgcmrF"
      },
      "id": "lM3AKXsgcmrF",
      "execution_count": null,
      "outputs": []
    },
    {
      "cell_type": "code",
      "source": [
        "!mkdir /content/drive/MyDrive/synthea/local_modules_dir"
      ],
      "metadata": {
        "id": "2rOUJJkrdG3j"
      },
      "id": "2rOUJJkrdG3j",
      "execution_count": null,
      "outputs": []
    },
    {
      "cell_type": "code",
      "source": [
        "!wget -O /content/drive/MyDrive/synthea/local_modules_dir/irritable_bowel_syndrome__ibs.json https://raw.githubusercontent.com/btwooton/arch_workshop_synthetic_data_ws7/main/local_modules_dir/irritable_bowel_syndrome__ibs.json"
      ],
      "metadata": {
        "id": "pvasTRruc0cP"
      },
      "id": "pvasTRruc0cP",
      "execution_count": null,
      "outputs": []
    },
    {
      "cell_type": "code",
      "source": [
        "!mkdir /content/drive/MyDrive/synthea/local_modules_dir/ibs"
      ],
      "metadata": {
        "id": "Zub6DdyOdoVp"
      },
      "id": "Zub6DdyOdoVp",
      "execution_count": null,
      "outputs": []
    },
    {
      "cell_type": "code",
      "source": [
        "!wget -O /content/drive/MyDrive/synthea/local_modules_dir/ibs/living_with_ibs.json https://raw.githubusercontent.com/btwooton/arch_workshop_synthetic_data_ws7/main/local_modules_dir/ibs/living_with_ibs.json"
      ],
      "metadata": {
        "id": "y71OCjbDdM66"
      },
      "id": "y71OCjbDdM66",
      "execution_count": null,
      "outputs": []
    },
    {
      "cell_type": "markdown",
      "source": [],
      "metadata": {
        "id": "UIRf3v4Scbm_"
      },
      "id": "UIRf3v4Scbm_"
    },
    {
      "cell_type": "code",
      "source": [
        "# defining a path prefix from which to run the synthea jar file\n",
        "synthea_prefix = \"/content/drive/MyDrive/synthea/\""
      ],
      "metadata": {
        "id": "3xfciHs7bypm"
      },
      "id": "3xfciHs7bypm",
      "execution_count": null,
      "outputs": []
    },
    {
      "cell_type": "markdown",
      "id": "e46e5f45-4078-4fc7-b7a5-d47e22dfc2c9",
      "metadata": {
        "id": "e46e5f45-4078-4fc7-b7a5-d47e22dfc2c9"
      },
      "source": [
        "# Basic Example: Running the Synthea Synthetic Patient Generation Tool\n",
        "- Here we pass in `-p 100` to specify that we want to simulate 100 patients\n",
        "- We pass in a specific config file with `-c synthea.config`\n",
        "- We specify that we want to simulate patients for the state of washington by giving the name `Washington`"
      ]
    },
    {
      "cell_type": "code",
      "execution_count": null,
      "id": "08b79a2e-ec2b-479f-ac88-5e698b3bcadc",
      "metadata": {
        "id": "08b79a2e-ec2b-479f-ac88-5e698b3bcadc"
      },
      "outputs": [],
      "source": [
        "!java -jar \"{synthea_prefix}synthea.jar\" -c \"{synthea_prefix}synthea.config\" -p 100 --exporter.baseDirectory=\"{synthea_prefix}/output\" Washington"
      ]
    },
    {
      "cell_type": "markdown",
      "id": "d70f3a19-4f1f-4cf3-8463-81a4e5d210d4",
      "metadata": {
        "id": "d70f3a19-4f1f-4cf3-8463-81a4e5d210d4"
      },
      "source": [
        "# Extended Example: Running the Synthea Tool for Multiple Different States\n",
        "- We can simulate patients for multiple states by invoking the synthea .jar file multiple times\n",
        "- We specify distinct output directories using the `--exporter.baseDirectory=\"<directory_path>\"` commandline argument"
      ]
    },
    {
      "cell_type": "code",
      "execution_count": null,
      "id": "987e7e5a-514d-479f-ae0b-8f4934617856",
      "metadata": {
        "id": "987e7e5a-514d-479f-ae0b-8f4934617856"
      },
      "outputs": [],
      "source": [
        "!java -jar \"{synthea_prefix}synthea.jar\" -c \"{synthea_prefix}synthea.config\" -p 10 --exporter.baseDirectory=\"{synthea_prefix}/output_wa\" Washington > /dev/null 2>&1 && \\\n",
        "echo \"Finished generating patients for Washington\" && \\\n",
        "java -jar \"{synthea_prefix}synthea.jar\" -c \"{synthea_prefix}synthea.config\" -p 10 --exporter.baseDirectory=\"{synthea_prefix}/output_ca\" California > /dev/null 2>&1 && \\\n",
        "echo \"Finished generating patients for California\" && \\\n",
        "java -jar \"{synthea_prefix}synthea.jar\" -c \"{synthea_prefix}synthea.config\" -p 10 --exporter.baseDirectory=\"{synthea_prefix}/output_hi\" Hawaii > /dev/null 2>&1 && \\\n",
        "echo \"Finished generating patients for Hawaii\" && \\\n",
        "java -jar \"{synthea_prefix}synthea.jar\" -c \"{synthea_prefix}synthea.config\" -p 10 --exporter.baseDirectory=\"{synthea_prefix}/output_tx\" Texas > /dev/null 2>&1 && \\\n",
        "echo \"Finished generating patients for Texas\" && \\\n",
        "java -jar \"{synthea_prefix}synthea.jar\" -c \"{synthea_prefix}synthea.config\" -p 10 --exporter.baseDirectory=\"{synthea_prefix}/output_id\" Idaho > /dev/null 2>&1 && \\\n",
        "echo \"Finished generating patients for Idaho\""
      ]
    },
    {
      "cell_type": "markdown",
      "id": "e8a42a66-e1da-44b5-9341-270d7f513b0d",
      "metadata": {
        "id": "e8a42a66-e1da-44b5-9341-270d7f513b0d"
      },
      "source": [
        "# Loading Custom Modules from a Subfolder\n",
        "- If we want to extend the Synthea tool with our own custom .json modules, we can load these with the `[-d localModulesDirPath]` commandline argument"
      ]
    },
    {
      "cell_type": "code",
      "execution_count": null,
      "id": "f5ad864f-f4a9-458a-a11b-ac53d7e8c6c9",
      "metadata": {
        "id": "f5ad864f-f4a9-458a-a11b-ac53d7e8c6c9"
      },
      "outputs": [],
      "source": [
        "!java -jar \"{synthea_prefix}synthea.jar\" -c \"{synthea_prefix}synthea.config\" -p 150 \\\n",
        "--exporter.baseDirectory=\"{synthea_prefix}/output_custom\" -d \"{synthea_prefix}/local_modules_dir\" Washington"
      ]
    },
    {
      "cell_type": "markdown",
      "source": [
        "## Testing to make sure we have patients with IBS diagnoses\n"
      ],
      "metadata": {
        "id": "Rg3Phm5xrjq7"
      },
      "id": "Rg3Phm5xrjq7"
    },
    {
      "cell_type": "code",
      "source": [
        "import pandas as pd"
      ],
      "metadata": {
        "id": "Io_M4MF-rqLE"
      },
      "id": "Io_M4MF-rqLE",
      "execution_count": null,
      "outputs": []
    },
    {
      "cell_type": "code",
      "source": [
        "conditions = pd.read_csv(f\"{synthea_prefix}output_custom/csv/conditions.csv\")"
      ],
      "metadata": {
        "id": "TS8Asp3TrsoU"
      },
      "id": "TS8Asp3TrsoU",
      "execution_count": null,
      "outputs": []
    },
    {
      "cell_type": "code",
      "source": [
        "ibs = conditions[conditions['DESCRIPTION'].str.contains('irritable bowel', case=False)]"
      ],
      "metadata": {
        "id": "_tteck4yr37T"
      },
      "id": "_tteck4yr37T",
      "execution_count": null,
      "outputs": []
    },
    {
      "cell_type": "code",
      "source": [
        "ibs['DESCRIPTION'].value_counts()"
      ],
      "metadata": {
        "id": "rcZQhTk7r9Fl"
      },
      "id": "rcZQhTk7r9Fl",
      "execution_count": null,
      "outputs": []
    }
  ],
  "metadata": {
    "kernelspec": {
      "display_name": "Python 3 (ipykernel)",
      "language": "python",
      "name": "python3"
    },
    "language_info": {
      "codemirror_mode": {
        "name": "ipython",
        "version": 3
      },
      "file_extension": ".py",
      "mimetype": "text/x-python",
      "name": "python",
      "nbconvert_exporter": "python",
      "pygments_lexer": "ipython3",
      "version": "3.12.9"
    },
    "colab": {
      "provenance": []
    }
  },
  "nbformat": 4,
  "nbformat_minor": 5
}